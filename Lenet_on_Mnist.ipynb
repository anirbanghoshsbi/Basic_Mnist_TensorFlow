{
  "nbformat": 4,
  "nbformat_minor": 0,
  "metadata": {
    "colab": {
      "name": "Lenet_on_Mnist.ipynb",
      "version": "0.3.2",
      "views": {},
      "default_view": {},
      "provenance": []
    },
    "kernelspec": {
      "name": "python3",
      "display_name": "Python 3"
    },
    "accelerator": "GPU"
  },
  "cells": [
    {
      "metadata": {
        "id": "jdXfq7PShBeA",
        "colab_type": "code",
        "colab": {
          "autoexec": {
            "startup": false,
            "wait_interval": 0
          }
        }
      },
      "cell_type": "code",
      "source": [
        "# import the libraries\n",
        "import tensorflow as tf\n",
        "import numpy as np"
      ],
      "execution_count": 0,
      "outputs": []
    },
    {
      "metadata": {
        "id": "0grYDE4Ahy-K",
        "colab_type": "code",
        "colab": {
          "autoexec": {
            "startup": false,
            "wait_interval": 0
          }
        }
      },
      "cell_type": "code",
      "source": [
        "from tensorflow.examples.tutorials.mnist import input_data"
      ],
      "execution_count": 0,
      "outputs": []
    },
    {
      "metadata": {
        "id": "EL0fvBaghb4d",
        "colab_type": "code",
        "colab": {
          "autoexec": {
            "startup": false,
            "wait_interval": 0
          },
          "base_uri": "https://localhost:8080/",
          "height": 479
        },
        "outputId": "65825e08-8b64-4507-d3d6-a44c86a94922",
        "executionInfo": {
          "status": "ok",
          "timestamp": 1532272015166,
          "user_tz": -330,
          "elapsed": 1979,
          "user": {
            "displayName": "Anirban Ghosh",
            "photoUrl": "https://lh3.googleusercontent.com/a/default-user=s128",
            "userId": "114654144150629633726"
          }
        }
      },
      "cell_type": "code",
      "source": [
        "mnist = input_data.read_data_sets(\"MNIST_data/\", reshape=False)"
      ],
      "execution_count": 4,
      "outputs": [
        {
          "output_type": "stream",
          "text": [
            "WARNING:tensorflow:From <ipython-input-4-bf605db4d910>:1: read_data_sets (from tensorflow.contrib.learn.python.learn.datasets.mnist) is deprecated and will be removed in a future version.\n",
            "Instructions for updating:\n",
            "Please use alternatives such as official/mnist/dataset.py from tensorflow/models.\n",
            "WARNING:tensorflow:From /usr/local/lib/python3.6/dist-packages/tensorflow/contrib/learn/python/learn/datasets/mnist.py:260: maybe_download (from tensorflow.contrib.learn.python.learn.datasets.base) is deprecated and will be removed in a future version.\n",
            "Instructions for updating:\n",
            "Please write your own downloading logic.\n",
            "WARNING:tensorflow:From /usr/local/lib/python3.6/dist-packages/tensorflow/contrib/learn/python/learn/datasets/base.py:252: _internal_retry.<locals>.wrap.<locals>.wrapped_fn (from tensorflow.contrib.learn.python.learn.datasets.base) is deprecated and will be removed in a future version.\n",
            "Instructions for updating:\n",
            "Please use urllib or similar directly.\n",
            "Successfully downloaded train-images-idx3-ubyte.gz 9912422 bytes.\n",
            "WARNING:tensorflow:From /usr/local/lib/python3.6/dist-packages/tensorflow/contrib/learn/python/learn/datasets/mnist.py:262: extract_images (from tensorflow.contrib.learn.python.learn.datasets.mnist) is deprecated and will be removed in a future version.\n",
            "Instructions for updating:\n",
            "Please use tf.data to implement this functionality.\n",
            "Extracting MNIST_data/train-images-idx3-ubyte.gz\n",
            "Successfully downloaded train-labels-idx1-ubyte.gz 28881 bytes.\n",
            "WARNING:tensorflow:From /usr/local/lib/python3.6/dist-packages/tensorflow/contrib/learn/python/learn/datasets/mnist.py:267: extract_labels (from tensorflow.contrib.learn.python.learn.datasets.mnist) is deprecated and will be removed in a future version.\n",
            "Instructions for updating:\n",
            "Please use tf.data to implement this functionality.\n",
            "Extracting MNIST_data/train-labels-idx1-ubyte.gz\n",
            "Successfully downloaded t10k-images-idx3-ubyte.gz 1648877 bytes.\n",
            "Extracting MNIST_data/t10k-images-idx3-ubyte.gz\n",
            "Successfully downloaded t10k-labels-idx1-ubyte.gz 4542 bytes.\n",
            "Extracting MNIST_data/t10k-labels-idx1-ubyte.gz\n",
            "WARNING:tensorflow:From /usr/local/lib/python3.6/dist-packages/tensorflow/contrib/learn/python/learn/datasets/mnist.py:290: DataSet.__init__ (from tensorflow.contrib.learn.python.learn.datasets.mnist) is deprecated and will be removed in a future version.\n",
            "Instructions for updating:\n",
            "Please use alternatives such as official/mnist/dataset.py from tensorflow/models.\n"
          ],
          "name": "stdout"
        }
      ]
    },
    {
      "metadata": {
        "id": "RcxsBLEYhb7h",
        "colab_type": "code",
        "colab": {
          "autoexec": {
            "startup": false,
            "wait_interval": 0
          }
        }
      },
      "cell_type": "code",
      "source": [
        "# split the data into train , test and validation sets\n",
        "X_train = mnist.train.images"
      ],
      "execution_count": 0,
      "outputs": []
    },
    {
      "metadata": {
        "id": "3h4AzblZhb-C",
        "colab_type": "code",
        "colab": {
          "autoexec": {
            "startup": false,
            "wait_interval": 0
          }
        }
      },
      "cell_type": "code",
      "source": [
        "y_train = mnist.train.labels"
      ],
      "execution_count": 0,
      "outputs": []
    },
    {
      "metadata": {
        "id": "I1wLFCFDhcBZ",
        "colab_type": "code",
        "colab": {
          "autoexec": {
            "startup": false,
            "wait_interval": 0
          }
        }
      },
      "cell_type": "code",
      "source": [
        "X_test = mnist.test.images"
      ],
      "execution_count": 0,
      "outputs": []
    },
    {
      "metadata": {
        "id": "3GmZtCT6hcQX",
        "colab_type": "code",
        "colab": {
          "autoexec": {
            "startup": false,
            "wait_interval": 0
          }
        }
      },
      "cell_type": "code",
      "source": [
        "y_test = mnist.test.labels"
      ],
      "execution_count": 0,
      "outputs": []
    },
    {
      "metadata": {
        "id": "4c66vKZGhcTR",
        "colab_type": "code",
        "colab": {
          "autoexec": {
            "startup": false,
            "wait_interval": 0
          }
        }
      },
      "cell_type": "code",
      "source": [
        "X_validation = mnist.validation.images"
      ],
      "execution_count": 0,
      "outputs": []
    },
    {
      "metadata": {
        "id": "EptokOLmhcV5",
        "colab_type": "code",
        "colab": {
          "autoexec": {
            "startup": false,
            "wait_interval": 0
          }
        }
      },
      "cell_type": "code",
      "source": [
        "y_validation = mnist.validation.labels"
      ],
      "execution_count": 0,
      "outputs": []
    },
    {
      "metadata": {
        "id": "qyFFgbbAhcYd",
        "colab_type": "code",
        "colab": {
          "autoexec": {
            "startup": false,
            "wait_interval": 0
          },
          "base_uri": "https://localhost:8080/",
          "height": 34
        },
        "outputId": "c8feda01-a005-46ed-cf62-902274f38f3c",
        "executionInfo": {
          "status": "ok",
          "timestamp": 1532272242124,
          "user_tz": -330,
          "elapsed": 1001,
          "user": {
            "displayName": "Anirban Ghosh",
            "photoUrl": "https://lh3.googleusercontent.com/a/default-user=s128",
            "userId": "114654144150629633726"
          }
        }
      },
      "cell_type": "code",
      "source": [
        "# check the data\n",
        "X_test.shape"
      ],
      "execution_count": 13,
      "outputs": [
        {
          "output_type": "execute_result",
          "data": {
            "text/plain": [
              "(10000, 28, 28, 1)"
            ]
          },
          "metadata": {
            "tags": []
          },
          "execution_count": 13
        }
      ]
    },
    {
      "metadata": {
        "id": "7G0Up8pJhcbF",
        "colab_type": "code",
        "colab": {
          "autoexec": {
            "startup": false,
            "wait_interval": 0
          },
          "base_uri": "https://localhost:8080/",
          "height": 34
        },
        "outputId": "7153b100-5f31-4c63-9ca2-329fcc31f8cf",
        "executionInfo": {
          "status": "ok",
          "timestamp": 1532272332215,
          "user_tz": -330,
          "elapsed": 1378,
          "user": {
            "displayName": "Anirban Ghosh",
            "photoUrl": "https://lh3.googleusercontent.com/a/default-user=s128",
            "userId": "114654144150629633726"
          }
        }
      },
      "cell_type": "code",
      "source": [
        "X_test[0].shape"
      ],
      "execution_count": 14,
      "outputs": [
        {
          "output_type": "execute_result",
          "data": {
            "text/plain": [
              "(28, 28, 1)"
            ]
          },
          "metadata": {
            "tags": []
          },
          "execution_count": 14
        }
      ]
    },
    {
      "metadata": {
        "id": "7ahMD-XIhced",
        "colab_type": "code",
        "colab": {
          "autoexec": {
            "startup": false,
            "wait_interval": 0
          },
          "base_uri": "https://localhost:8080/",
          "height": 364
        },
        "outputId": "eaf6dfad-f4af-42db-c145-92845e172d17",
        "executionInfo": {
          "status": "ok",
          "timestamp": 1532272674941,
          "user_tz": -330,
          "elapsed": 1389,
          "user": {
            "displayName": "Anirban Ghosh",
            "photoUrl": "https://lh3.googleusercontent.com/a/default-user=s128",
            "userId": "114654144150629633726"
          }
        }
      },
      "cell_type": "code",
      "source": [
        "import matplotlib.pyplot as plt\n",
        "plt.imshow(X_test[0].squeeze() , cmap='gray')\n",
        "# the squeeze function converts the (28,28,1) ---> (28,28)"
      ],
      "execution_count": 19,
      "outputs": [
        {
          "output_type": "execute_result",
          "data": {
            "text/plain": [
              "<matplotlib.image.AxesImage at 0x7fefaa409128>"
            ]
          },
          "metadata": {
            "tags": []
          },
          "execution_count": 19
        },
        {
          "output_type": "display_data",
          "data": {
            "image/png": "[encoded data removed]",
            "text/plain": [
              "<matplotlib.figure.Figure at 0x7fefaa4527b8>"
            ]
          },
          "metadata": {
            "tags": []
          }
        }
      ]
    },
    {
      "metadata": {
        "id": "JBZa30ngjNPr",
        "colab_type": "code",
        "colab": {
          "autoexec": {
            "startup": false,
            "wait_interval": 0
          },
          "base_uri": "https://localhost:8080/",
          "height": 364
        },
        "outputId": "3623a37c-6ed7-4c95-df06-98a5a64a360b",
        "executionInfo": {
          "status": "ok",
          "timestamp": 1532272893907,
          "user_tz": -330,
          "elapsed": 1344,
          "user": {
            "displayName": "Anirban Ghosh",
            "photoUrl": "https://lh3.googleusercontent.com/a/default-user=s128",
            "userId": "114654144150629633726"
          }
        }
      },
      "cell_type": "code",
      "source": [
        "#slightly different way of doing the same is\n",
        "plt.imshow(np.squeeze(X_test[0]))"
      ],
      "execution_count": 22,
      "outputs": [
        {
          "output_type": "execute_result",
          "data": {
            "text/plain": [
              "<matplotlib.image.AxesImage at 0x7fefaa346ba8>"
            ]
          },
          "metadata": {
            "tags": []
          },
          "execution_count": 22
        },
        {
          "output_type": "display_data",
          "data": {
            "image/png": "[encoded data removed]",
            "text/plain": [
              "<matplotlib.figure.Figure at 0x7fefaa38d518>"
            ]
          },
          "metadata": {
            "tags": []
          }
        }
      ]
    },
    {
      "metadata": {
        "id": "1Ho6Cd5UlHCM",
        "colab_type": "code",
        "colab": {
          "autoexec": {
            "startup": false,
            "wait_interval": 0
          }
        }
      },
      "cell_type": "code",
      "source": [
        "#pad the image so that the image becomes (28,28,1)---> (32,32,1)\n",
        "X_train      = np.pad(X_train, ((0,0),(2,2),(2,2),(0,0)), 'constant')"
      ],
      "execution_count": 0,
      "outputs": []
    },
    {
      "metadata": {
        "id": "-eR0LByilmMg",
        "colab_type": "code",
        "colab": {
          "autoexec": {
            "startup": false,
            "wait_interval": 0
          },
          "base_uri": "https://localhost:8080/",
          "height": 34
        },
        "outputId": "e67d3f9a-7bdf-485d-e845-25af2ac2faba",
        "executionInfo": {
          "status": "ok",
          "timestamp": 1532273002731,
          "user_tz": -330,
          "elapsed": 652,
          "user": {
            "displayName": "Anirban Ghosh",
            "photoUrl": "https://lh3.googleusercontent.com/a/default-user=s128",
            "userId": "114654144150629633726"
          }
        }
      },
      "cell_type": "code",
      "source": [
        "X_train.shape"
      ],
      "execution_count": 24,
      "outputs": [
        {
          "output_type": "execute_result",
          "data": {
            "text/plain": [
              "(55000, 32, 32, 1)"
            ]
          },
          "metadata": {
            "tags": []
          },
          "execution_count": 24
        }
      ]
    },
    {
      "metadata": {
        "id": "4DOiTnC6loXz",
        "colab_type": "code",
        "colab": {
          "autoexec": {
            "startup": false,
            "wait_interval": 0
          }
        }
      },
      "cell_type": "code",
      "source": [
        "#similarly change the shape of the test and validation set\n",
        "X_test = np.pad(X_test , ((0,0),(2,2),(2,2),(0,0)),'constant')\n",
        "X_validation=np.pad(X_validation , ((0,0),(2,2),(2,2),(0,0)),'constant')"
      ],
      "execution_count": 0,
      "outputs": []
    },
    {
      "metadata": {
        "id": "Kc84zEJGmFiS",
        "colab_type": "code",
        "colab": {
          "autoexec": {
            "startup": false,
            "wait_interval": 0
          },
          "base_uri": "https://localhost:8080/",
          "height": 51
        },
        "outputId": "e4652ce5-779b-4151-eafd-39dae653082d",
        "executionInfo": {
          "status": "ok",
          "timestamp": 1532273206444,
          "user_tz": -330,
          "elapsed": 1345,
          "user": {
            "displayName": "Anirban Ghosh",
            "photoUrl": "https://lh3.googleusercontent.com/a/default-user=s128",
            "userId": "114654144150629633726"
          }
        }
      },
      "cell_type": "code",
      "source": [
        "print(X_test.shape)\n",
        "print(X_validation.shape)"
      ],
      "execution_count": 27,
      "outputs": [
        {
          "output_type": "stream",
          "text": [
            "(10000, 32, 32, 1)\n",
            "(5000, 32, 32, 1)\n"
          ],
          "name": "stdout"
        }
      ]
    },
    {
      "metadata": {
        "id": "_gmKA0ZxmZ74",
        "colab_type": "code",
        "colab": {
          "autoexec": {
            "startup": false,
            "wait_interval": 0
          },
          "base_uri": "https://localhost:8080/",
          "height": 364
        },
        "outputId": "b1dc1d5d-71cf-40a3-a35a-d3c0a27d567b",
        "executionInfo": {
          "status": "ok",
          "timestamp": 1532273291584,
          "user_tz": -330,
          "elapsed": 1008,
          "user": {
            "displayName": "Anirban Ghosh",
            "photoUrl": "https://lh3.googleusercontent.com/a/default-user=s128",
            "userId": "114654144150629633726"
          }
        }
      },
      "cell_type": "code",
      "source": [
        "# see the data once again\n",
        "plt.imshow(X_test[24].squeeze())"
      ],
      "execution_count": 29,
      "outputs": [
        {
          "output_type": "execute_result",
          "data": {
            "text/plain": [
              "<matplotlib.image.AxesImage at 0x7fefaa283c88>"
            ]
          },
          "metadata": {
            "tags": []
          },
          "execution_count": 29
        },
        {
          "output_type": "display_data",
          "data": {
            "image/png": "[encoded data removed]",
            "text/plain": [
              "<matplotlib.figure.Figure at 0x7fefaa2ed320>"
            ]
          },
          "metadata": {
            "tags": []
          }
        }
      ]
    },
    {
      "metadata": {
        "id": "2yibqQzEmsBv",
        "colab_type": "code",
        "colab": {
          "autoexec": {
            "startup": false,
            "wait_interval": 0
          },
          "base_uri": "https://localhost:8080/",
          "height": 364
        },
        "outputId": "9f13ae18-7e05-497d-c7c1-3fadb1e741f9",
        "executionInfo": {
          "status": "ok",
          "timestamp": 1532273334786,
          "user_tz": -330,
          "elapsed": 1002,
          "user": {
            "displayName": "Anirban Ghosh",
            "photoUrl": "https://lh3.googleusercontent.com/a/default-user=s128",
            "userId": "114654144150629633726"
          }
        }
      },
      "cell_type": "code",
      "source": [
        "plt.imshow(X_validation[1254].squeeze() , cmap ='gray')"
      ],
      "execution_count": 30,
      "outputs": [
        {
          "output_type": "execute_result",
          "data": {
            "text/plain": [
              "<matplotlib.image.AxesImage at 0x7fefaa1e3c18>"
            ]
          },
          "metadata": {
            "tags": []
          },
          "execution_count": 30
        },
        {
          "output_type": "display_data",
          "data": {
            "image/png": "[encoded data removed]",
            "text/plain": [
              "<matplotlib.figure.Figure at 0x7fefaa22fac8>"
            ]
          },
          "metadata": {
            "tags": []
          }
        }
      ]
    },
    {
      "metadata": {
        "id": "o0bQCKpwm5Wp",
        "colab_type": "code",
        "colab": {
          "autoexec": {
            "startup": false,
            "wait_interval": 0
          }
        }
      },
      "cell_type": "code",
      "source": [
        "# Preprocess the data\n",
        "from sklearn.utils import shuffle"
      ],
      "execution_count": 0,
      "outputs": []
    },
    {
      "metadata": {
        "id": "Xmm9snA7nHFy",
        "colab_type": "code",
        "colab": {
          "autoexec": {
            "startup": false,
            "wait_interval": 0
          }
        }
      },
      "cell_type": "code",
      "source": [
        "X_train , y_train = shuffle(X_train ,y_train)"
      ],
      "execution_count": 0,
      "outputs": []
    },
    {
      "metadata": {
        "id": "26HCG6FEnPbc",
        "colab_type": "code",
        "colab": {
          "autoexec": {
            "startup": false,
            "wait_interval": 0
          }
        }
      },
      "cell_type": "code",
      "source": [
        "#batch size \n",
        "BATCH_SIZE = 128\n",
        "EPOCHS = 10\n"
      ],
      "execution_count": 0,
      "outputs": []
    },
    {
      "metadata": {
        "id": "xpnzbazpnbIO",
        "colab_type": "code",
        "colab": {
          "autoexec": {
            "startup": false,
            "wait_interval": 0
          }
        }
      },
      "cell_type": "code",
      "source": [
        ""
      ],
      "execution_count": 0,
      "outputs": []
    },
    {
      "metadata": {
        "id": "6xPJTHSZnh1O",
        "colab_type": "text"
      },
      "cell_type": "markdown",
      "source": [
        "# Input\n",
        "The LeNet architecture accepts a 32x32xC image as input, where C is the number of color channels. Since MNIST images are grayscale, C is 1 in this case.\n",
        "\n",
        "# Architecture\n",
        "Layer 1: Convolutional. The output shape   28x28x6. **(padding ='valid')**\n",
        "\n",
        "Activation.  activation function (relu /sigmoid/tanh)\n",
        "\n",
        "Pooling. The output shape would  be 14x14x6.\n",
        "\n",
        "Layer 2: Convolutional. The output shape would be 10x10x16.** (padding ='valid')**\n",
        "\n",
        "Activation. activation function (**relu** /sigmoid/tanh)\n",
        "\n",
        "Pooling. The output shape would be 5x5x16.\n",
        "\n",
        "Flatten. Flattens the output shape of the final pooling layer such that it's 1D instead of 3D. The easiest way to do is by using **tf.contrib.layers.flatten**\n",
        "\n",
        "Layer 3: Fully Connected. This has 120 outputs.\n",
        "\n",
        "Activation. activation function (**relu** /sigmoid/tanh)\n",
        "\n",
        "Layer 4: Fully Connected. This would have 84 outputs.\n",
        "\n",
        "Activation.  activation function (**relu** /sigmoid/tanh)\n",
        "\n",
        "Layer 5: Fully Connected (Logits). This should have 10 outputs and we use **softmax** for it.\n",
        "\n",
        "# Output\n",
        "Return the result of the 2nd fully connected layer."
      ]
    },
    {
      "metadata": {
        "id": "CiuxcM6znuB7",
        "colab_type": "code",
        "colab": {
          "autoexec": {
            "startup": false,
            "wait_interval": 0
          }
        }
      },
      "cell_type": "code",
      "source": [
        "from tensorflow.contrib.layers import flatten\n"
      ],
      "execution_count": 0,
      "outputs": []
    },
    {
      "metadata": {
        "id": "a53mpCsbo1zt",
        "colab_type": "code",
        "colab": {
          "autoexec": {
            "startup": false,
            "wait_interval": 0
          }
        }
      },
      "cell_type": "code",
      "source": [
        "def LeNet(x):    \n",
        "    # Hyperparameters\n",
        "    mu = 0\n",
        "    sigma = 0.1\n",
        "    layer_depth = {\n",
        "        'layer_1' : 6,\n",
        "        'layer_2' : 16,\n",
        "        'layer_3' : 120,\n",
        "        'layer_f1' : 84\n",
        "    }\n",
        "    # Layer 1: Convolutional. Input = 32x32x1. Output = 28x28x6. ==> use padding 'VALID'\n",
        "    conv1_w = tf.Variable(tf.truncated_normal(shape = [5,5,1,6],mean = mu, stddev = sigma))\n",
        "    conv1_b = tf.Variable(tf.constant(.1, tf.float32,[6]))\n",
        "    conv1 = tf.nn.conv2d(x,conv1_w, strides = [1,1,1,1], padding = 'VALID') + conv1_b\n",
        "    #Activation == > relu\n",
        "    conv1 = tf.nn.relu(conv1)\n",
        "    #Pooling. Input = 28x28x6. Output = 14x14x6.\n",
        "    pool_1 = tf.nn.max_pool(conv1,ksize = [1,2,2,1], strides = [1,2,2,1], padding = 'VALID')\n",
        "    #Layer 2: Convolutional. Output = 10x10x16.\n",
        "    conv2_w = tf.Variable(tf.truncated_normal(shape = [5,5,6,16], mean = mu, stddev = sigma))\n",
        "    conv2_b = tf.Variable(tf.constant(0.1, tf.float32, [16]))\n",
        "    conv2 = tf.nn.conv2d(pool_1, conv2_w, strides = [1,1,1,1], padding = 'VALID') + conv2_b\n",
        "    #Activation ===> relu\n",
        "    conv2 = tf.nn.relu(conv2)\n",
        "    #Pooling. Input = 10x10x16. Output = 5x5x16.\n",
        "    pool_2 = tf.nn.max_pool(conv2, ksize = [1,2,2,1], strides = [1,2,2,1], padding = 'VALID') \n",
        "    #Flatten. Input = 5x5x16. Output = 400.\n",
        "    fc1 = flatten(pool_2)\n",
        "    #Layer 3: Fully Connected. Input = 400. Output = 120.\n",
        "    fc1_w = tf.Variable(tf.truncated_normal(shape = (400,120), mean = mu, stddev = sigma))\n",
        "    fc1_b = tf.Variable(tf.zeros(120))\n",
        "    fc1 = tf.matmul(fc1,fc1_w) + fc1_b\n",
        "    #Activation ==> relu\n",
        "    fc1 = tf.nn.relu(fc1)\n",
        "    # Layer 4: Fully Connected. Input = 120. Output = 84.\n",
        "    fc2_w = tf.Variable(tf.truncated_normal(shape = (120,84), mean = mu, stddev = sigma))\n",
        "    fc2_b = tf.Variable(tf.constant(0.1, tf.float32, [84]))\n",
        "    fc2 = tf.matmul(fc1,fc2_w) + fc2_b\n",
        "    # Activation ===>relu\n",
        "    fc2 = tf.nn.relu(fc2)\n",
        "    #Layer 5: Fully Connected. Input = 84. Output = 10.\n",
        "    fc3_w = tf.Variable(tf.truncated_normal(shape = (84,10), mean = mu , stddev = sigma))\n",
        "    fc3_b = tf.Variable(tf.constant(0.1, tf.float32, [10]))\n",
        "    logits = tf.matmul(fc2, fc3_w) + fc3_b\n",
        "    return logits"
      ],
      "execution_count": 0,
      "outputs": []
    },
    {
      "metadata": {
        "id": "ivfDw33orj99",
        "colab_type": "code",
        "colab": {
          "autoexec": {
            "startup": false,
            "wait_interval": 0
          }
        }
      },
      "cell_type": "code",
      "source": [
        "# Create the Placeholder\n",
        "x = tf.placeholder(tf.float32, (None, 32, 32, 1))\n",
        "y = tf.placeholder(tf.int32, (None))\n",
        "one_hot_y = tf.one_hot(y, 10)"
      ],
      "execution_count": 0,
      "outputs": []
    },
    {
      "metadata": {
        "id": "W-iAvyxCrzFV",
        "colab_type": "code",
        "colab": {
          "autoexec": {
            "startup": false,
            "wait_interval": 0
          }
        }
      },
      "cell_type": "code",
      "source": [
        ""
      ],
      "execution_count": 0,
      "outputs": []
    },
    {
      "metadata": {
        "id": "NnINygaer2qk",
        "colab_type": "text"
      },
      "cell_type": "markdown",
      "source": [
        "# Training "
      ]
    },
    {
      "metadata": {
        "id": "cUko_S7Yr5tC",
        "colab_type": "code",
        "colab": {
          "autoexec": {
            "startup": false,
            "wait_interval": 0
          }
        }
      },
      "cell_type": "code",
      "source": [
        "lr = 0.001\n",
        "\n",
        "logits = LeNet(x)\n",
        "cross_entropy = tf.nn.softmax_cross_entropy_with_logits(logits=logits, labels=one_hot_y)\n",
        "loss_operation = tf.reduce_mean(cross_entropy)\n",
        "optimizer = tf.train.AdamOptimizer(learning_rate = lr)\n",
        "training_operation = optimizer.minimize(loss_operation)"
      ],
      "execution_count": 0,
      "outputs": []
    },
    {
      "metadata": {
        "id": "OGXuydNWsGnK",
        "colab_type": "code",
        "colab": {
          "autoexec": {
            "startup": false,
            "wait_interval": 0
          }
        }
      },
      "cell_type": "code",
      "source": [
        ""
      ],
      "execution_count": 0,
      "outputs": []
    },
    {
      "metadata": {
        "id": "Sqdefjd8uHMv",
        "colab_type": "text"
      },
      "cell_type": "markdown",
      "source": [
        "# Evaluation"
      ]
    },
    {
      "metadata": {
        "id": "6b2c5MD3uJ3m",
        "colab_type": "code",
        "colab": {
          "autoexec": {
            "startup": false,
            "wait_interval": 0
          }
        }
      },
      "cell_type": "code",
      "source": [
        "correct_prediction = tf.equal(tf.argmax(logits, 1), tf.argmax(one_hot_y, 1))\n",
        "accuracy_operation = tf.reduce_mean(tf.cast(correct_prediction, tf.float32))\n",
        "saver = tf.train.Saver()\n",
        "\n",
        "def evaluate(X_data, y_data):\n",
        "    num_examples = len(X_data)\n",
        "    total_accuracy = 0\n",
        "    sess = tf.get_default_session()\n",
        "    for offset in range(0, num_examples, BATCH_SIZE):\n",
        "        batch_x, batch_y = X_data[offset:offset+BATCH_SIZE], y_data[offset:offset+BATCH_SIZE]\n",
        "        accuracy = sess.run(accuracy_operation, feed_dict={x: batch_x, y: batch_y})\n",
        "        total_accuracy += (accuracy * len(batch_x))\n",
        "    return total_accuracy / num_examples"
      ],
      "execution_count": 0,
      "outputs": []
    },
    {
      "metadata": {
        "id": "y1Y2nNEuufdy",
        "colab_type": "code",
        "colab": {
          "autoexec": {
            "startup": false,
            "wait_interval": 0
          }
        }
      },
      "cell_type": "code",
      "source": [
        ""
      ],
      "execution_count": 0,
      "outputs": []
    },
    {
      "metadata": {
        "id": "7kNtaot2uhgt",
        "colab_type": "text"
      },
      "cell_type": "markdown",
      "source": [
        "# Train"
      ]
    },
    {
      "metadata": {
        "id": "tBxGxoj6ukd-",
        "colab_type": "code",
        "colab": {
          "autoexec": {
            "startup": false,
            "wait_interval": 0
          },
          "base_uri": "https://localhost:8080/",
          "height": 901
        },
        "outputId": "25a9af95-d7dc-496c-e820-f86c5f76fc04",
        "executionInfo": {
          "status": "ok",
          "timestamp": 1532275870098,
          "user_tz": -330,
          "elapsed": 24117,
          "user": {
            "displayName": "Anirban Ghosh",
            "photoUrl": "https://lh3.googleusercontent.com/a/default-user=s128",
            "userId": "114654144150629633726"
          }
        }
      },
      "cell_type": "code",
      "source": [
        "with tf.Session() as sess:\n",
        "    sess.run(tf.global_variables_initializer())\n",
        "    num_examples = len(X_train)\n",
        "    \n",
        "    print(\"Training...\")\n",
        "    print()\n",
        "    for i in range(EPOCHS):\n",
        "        X_train, y_train = shuffle(X_train, y_train)\n",
        "        for offset in range(0, num_examples, BATCH_SIZE):\n",
        "            end = offset + BATCH_SIZE\n",
        "            batch_x, batch_y = X_train[offset:end], y_train[offset:end]\n",
        "            sess.run(training_operation, feed_dict={x: batch_x, y: batch_y})\n",
        "            \n",
        "        validation_accuracy = evaluate(X_validation, y_validation)\n",
        "        test_accuracy = evaluate(X_test , y_test)\n",
        "        print(\"EPOCH {} ...\".format(i+1))\n",
        "        print(\"Validation Accuracy = {:.3f}\".format(validation_accuracy))\n",
        "        print(\"EPOCH {} ...\".format(i+1))\n",
        "        print(\"Test Accuracy = {:.3f}\".format(test_accuracy))\n",
        "        print()\n",
        "        \n",
        "    #saver.save(sess, 'lenet')\n",
        "    #print(\"Model saved\")"
      ],
      "execution_count": 50,
      "outputs": [
        {
          "output_type": "stream",
          "text": [
            "Training...\n",
            "\n",
            "EPOCH 1 ...\n",
            "Validation Accuracy = 0.969\n",
            "EPOCH 1 ...\n",
            "Test Accuracy = 0.968\n",
            "\n",
            "EPOCH 2 ...\n",
            "Validation Accuracy = 0.982\n",
            "EPOCH 2 ...\n",
            "Test Accuracy = 0.983\n",
            "\n",
            "EPOCH 3 ...\n",
            "Validation Accuracy = 0.984\n",
            "EPOCH 3 ...\n",
            "Test Accuracy = 0.985\n",
            "\n",
            "EPOCH 4 ...\n",
            "Validation Accuracy = 0.986\n",
            "EPOCH 4 ...\n",
            "Test Accuracy = 0.987\n",
            "\n",
            "EPOCH 5 ...\n",
            "Validation Accuracy = 0.986\n",
            "EPOCH 5 ...\n",
            "Test Accuracy = 0.988\n",
            "\n",
            "EPOCH 6 ...\n",
            "Validation Accuracy = 0.987\n",
            "EPOCH 6 ...\n",
            "Test Accuracy = 0.987\n",
            "\n",
            "EPOCH 7 ...\n",
            "Validation Accuracy = 0.988\n",
            "EPOCH 7 ...\n",
            "Test Accuracy = 0.989\n",
            "\n",
            "EPOCH 8 ...\n",
            "Validation Accuracy = 0.987\n",
            "EPOCH 8 ...\n",
            "Test Accuracy = 0.988\n",
            "\n",
            "EPOCH 9 ...\n",
            "Validation Accuracy = 0.986\n",
            "EPOCH 9 ...\n",
            "Test Accuracy = 0.989\n",
            "\n",
            "EPOCH 10 ...\n",
            "Validation Accuracy = 0.989\n",
            "EPOCH 10 ...\n",
            "Test Accuracy = 0.988\n",
            "\n"
          ],
          "name": "stdout"
        }
      ]
    },
    {
      "metadata": {
        "id": "tKP84BBJwovN",
        "colab_type": "code",
        "colab": {
          "autoexec": {
            "startup": false,
            "wait_interval": 0
          }
        }
      },
      "cell_type": "code",
      "source": [
        "'''with tf.Session() as sess:\n",
        "    saver.restore(sess, tf.train.latest_checkpoint('.'))\n",
        "\n",
        "    test_accuracy = evaluate(X_test, y_test)\n",
        "    print(\"Test Accuracy = {:.3f}\".format(test_accuracy))'''"
      ],
      "execution_count": 0,
      "outputs": []
    }
  ]
}